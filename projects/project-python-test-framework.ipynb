{
 "cells": [
  {
   "cell_type": "code",
   "execution_count": 40,
   "metadata": {},
   "outputs": [
    {
     "name": "stdout",
     "output_type": "stream",
     "text": [
      "Test_Add_Success() test is running\n",
      "\u001b[92mPASS\u001b[0m\n",
      "Test_Add_Failure() test is running\n",
      "\u001b[91m1 == 2\u001b[0m\n",
      "\u001b[91mFAIL\u001b[0m\n"
     ]
    }
   ],
   "source": [
    "import functools\n",
    "\n",
    "# add terminal colors\n",
    "class bcolors:\n",
    "    HEADER = '\\033[95m'\n",
    "    OKBLUE = '\\033[94m'\n",
    "    OKGREEN = '\\033[92m' # green\n",
    "    WARNING = '\\033[93m' # yellow\n",
    "    FAIL = '\\033[91m' # red\n",
    "    ENDC = '\\033[0m' # end color\n",
    "    BOLD = '\\033[1m'\n",
    "    UNDERLINE = '\\033[4m'\n",
    "\n",
    "# print with okgreen color\n",
    "def print_okgreen(msg):\n",
    "    print(f\"{bcolors.OKGREEN}{msg}{bcolors.ENDC}\")\n",
    "\n",
    "# print with fail color\n",
    "def print_fail(msg):\n",
    "    print(f\"{bcolors.FAIL}{msg}{bcolors.ENDC}\")\n",
    "\n",
    "tests = []\n",
    "\n",
    "class expect:\n",
    "    def __init__(self, expected):\n",
    "        self.expected = expected\n",
    "    def toBe(self, actual):\n",
    "        res = self.expected == actual\n",
    "        if not res:\n",
    "            print_fail(f\"{self.expected} == {actual}\")\n",
    "\n",
    "        if res:\n",
    "            print_okgreen('PASS')\n",
    "        else:\n",
    "            print_fail('FAIL')\n",
    "\n",
    "def decorator(fn):\n",
    "   \n",
    "    functools.wraps(fn)\n",
    "    # print(\"Test decorator\")\n",
    "    def inner():\n",
    "        print(f\"{fn.__name__}() test is running\")\n",
    "        fn()\n",
    "\n",
    "    tests.append(inner)\n",
    "    return inner\n",
    "\n",
    "@decorator\n",
    "def Test_Add_Success():\n",
    "    # print(\"func is running\")\n",
    "    expect(1).toBe(1)\n",
    "\n",
    "@decorator\n",
    "def Test_Add_Failure():\n",
    "    # print(\"func2 is running\")\n",
    "    expect(1).toBe(2)\n",
    "\n",
    "def PrintTests():\n",
    "    for test in tests:\n",
    "        test()\n",
    "\n",
    "\n",
    "PrintTests()\n"
   ]
  }
 ],
 "metadata": {
  "kernelspec": {
   "display_name": "Python 3",
   "language": "python",
   "name": "python3"
  },
  "language_info": {
   "codemirror_mode": {
    "name": "ipython",
    "version": 3
   },
   "file_extension": ".py",
   "mimetype": "text/x-python",
   "name": "python",
   "nbconvert_exporter": "python",
   "pygments_lexer": "ipython3",
   "version": "3.10.11"
  },
  "orig_nbformat": 4
 },
 "nbformat": 4,
 "nbformat_minor": 2
}
